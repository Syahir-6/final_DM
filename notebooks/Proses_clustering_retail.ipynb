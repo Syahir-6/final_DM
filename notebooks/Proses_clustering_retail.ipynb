{
  "nbformat": 4,
  "nbformat_minor": 0,
  "metadata": {
    "colab": {
      "provenance": []
    },
    "kernelspec": {
      "name": "python3",
      "display_name": "Python 3"
    },
    "language_info": {
      "name": "python"
    }
  },
  "cells": [
    {
      "cell_type": "code",
      "execution_count": 32,
      "metadata": {
        "id": "vdRpJBIGsAKd"
      },
      "outputs": [],
      "source": [
        "import pandas as pd\n",
        "import numpy as np\n",
        "from sklearn.cluster import KMeans, DBSCAN, MeanShift\n",
        "from sklearn.preprocessing import StandardScaler\n",
        "from sklearn.preprocessing import LabelEncoder\n",
        "from sklearn.metrics import silhouette_score, adjusted_rand_score, homogeneity_score\n",
        "import matplotlib.pyplot as plt"
      ]
    },
    {
      "cell_type": "code",
      "source": [
        "data = pd.read_excel('/content/preprocessed_data.xlsx')"
      ],
      "metadata": {
        "id": "U8HEkVP7sNq8"
      },
      "execution_count": 33,
      "outputs": []
    },
    {
      "cell_type": "code",
      "source": [
        "data = data.dropna()"
      ],
      "metadata": {
        "id": "DW8UpD1cs6Qe"
      },
      "execution_count": 34,
      "outputs": []
    },
    {
      "cell_type": "code",
      "source": [
        "data['StockCode'] = data['StockCode'].astype(str)\n",
        "data['Description'] = data['Description'].astype(str)\n",
        "data['Country'] = data['Country'].astype(str)"
      ],
      "metadata": {
        "id": "NqJxo5YZs_eZ"
      },
      "execution_count": 35,
      "outputs": []
    },
    {
      "cell_type": "code",
      "source": [
        "label_encoder = LabelEncoder()\n",
        "data['StockCode'] = label_encoder.fit_transform(data['StockCode'])\n",
        "data['Description'] = label_encoder.fit_transform(data['Description'])\n",
        "data['Country'] = label_encoder.fit_transform(data['Country'])"
      ],
      "metadata": {
        "id": "xLtYQxd1t9kw"
      },
      "execution_count": 36,
      "outputs": []
    },
    {
      "cell_type": "code",
      "source": [
        "numerical_features = ['InvoiceNo', 'Quantity', 'UnitPrice', 'CustomerID']"
      ],
      "metadata": {
        "id": "mHUegaWJuDsQ"
      },
      "execution_count": 37,
      "outputs": []
    },
    {
      "cell_type": "code",
      "source": [
        "for feature in numerical_features:\n",
        "    data[feature] = pd.to_numeric(data[feature], errors='coerce')"
      ],
      "metadata": {
        "id": "Z8qHoHdquG0Q"
      },
      "execution_count": 38,
      "outputs": []
    },
    {
      "cell_type": "code",
      "source": [
        "data = data.dropna(subset=numerical_features)\n",
        "\n",
        "X_numerical = data[numerical_features]"
      ],
      "metadata": {
        "id": "qO9M5FsEuyVD"
      },
      "execution_count": 39,
      "outputs": []
    },
    {
      "cell_type": "code",
      "source": [
        "scaler = StandardScaler()\n",
        "X_scaled = scaler.fit_transform(X_numerical)"
      ],
      "metadata": {
        "id": "a2EnHW81u3Ld"
      },
      "execution_count": 40,
      "outputs": []
    },
    {
      "cell_type": "code",
      "source": [
        "X_encoded = data[['StockCode', 'Description', 'Country']]\n",
        "X_final = np.concatenate([X_scaled, X_encoded], axis=1)"
      ],
      "metadata": {
        "id": "v2Q1DejBu6Bw"
      },
      "execution_count": 41,
      "outputs": []
    },
    {
      "cell_type": "code",
      "source": [
        "kmeans = KMeans(n_clusters=3, random_state=42)\n",
        "kmeans_labels = kmeans.fit_predict(X_final)"
      ],
      "metadata": {
        "id": "HocxuESuu-WW"
      },
      "execution_count": 42,
      "outputs": []
    },
    {
      "cell_type": "code",
      "source": [
        "dbscan = DBSCAN(eps=0.5, min_samples=5)\n",
        "dbscan_labels = dbscan.fit_predict(X_final)"
      ],
      "metadata": {
        "id": "85QRrEUmvBZ0"
      },
      "execution_count": 44,
      "outputs": []
    },
    {
      "cell_type": "code",
      "source": [
        "print(f\"Jumlah baris data: {len(data)}\")\n",
        "print(f\"Jumlah label K-Means: {len(kmeans_labels)}\")\n",
        "print(f\"Jumlah label DBSCAN: {len(dbscan_labels)}\")"
      ],
      "metadata": {
        "colab": {
          "base_uri": "https://localhost:8080/"
        },
        "id": "JmPmXoWzaSVd",
        "outputId": "8457bdae-cfe4-4709-a477-1b1ec3048b5b"
      },
      "execution_count": 45,
      "outputs": [
        {
          "output_type": "stream",
          "name": "stdout",
          "text": [
            "Jumlah baris data: 397924\n",
            "Jumlah label K-Means: 397924\n",
            "Jumlah label DBSCAN: 397924\n"
          ]
        }
      ]
    },
    {
      "cell_type": "code",
      "source": [
        "data['KMeans_Cluster'] = kmeans_labels\n",
        "data['DBSCAN_Cluster'] = dbscan_labels"
      ],
      "metadata": {
        "id": "-cvG6YA82N2U"
      },
      "execution_count": 46,
      "outputs": []
    },
    {
      "cell_type": "code",
      "source": [
        "subset_indices = np.random.choice(X_final.shape[0], size=1000, replace=False)  # Ambil 1000 sampel acak\n",
        "X_subset = X_final[subset_indices]\n",
        "kmeans_labels_subset = kmeans_labels[subset_indices]\n",
        "dbscan_labels_subset = dbscan_labels[subset_indices]\n",
        "\n",
        "kmeans_silhouette = silhouette_score(X_subset, kmeans_labels_subset)\n",
        "dbscan_silhouette = (\n",
        "    silhouette_score(X_subset, dbscan_labels_subset) if len(set(dbscan_labels_subset)) > 1 else -1\n",
        ")\n",
        "\n",
        "print(f\"K-Means Silhouette Score: {kmeans_silhouette:.3f}\")\n",
        "print(f\"DBSCAN Silhouette Score: {dbscan_silhouette:.3f}\")"
      ],
      "metadata": {
        "colab": {
          "base_uri": "https://localhost:8080/"
        },
        "id": "zXRFK4sC2Upz",
        "outputId": "ba50e1d0-ba7f-4742-cc6f-d9c8c4df4f5b"
      },
      "execution_count": 49,
      "outputs": [
        {
          "output_type": "stream",
          "name": "stdout",
          "text": [
            "K-Means Silhouette Score: 0.380\n",
            "DBSCAN Silhouette Score: 0.145\n"
          ]
        }
      ]
    },
    {
      "cell_type": "code",
      "source": [
        "print(\"Columns in the dataset:\", data.columns)\n",
        "\n",
        "print(f\"First 5 rows with clustering results:\\n{data.head()}\")"
      ],
      "metadata": {
        "colab": {
          "base_uri": "https://localhost:8080/"
        },
        "id": "5t5nyxUI2ZoV",
        "outputId": "f62201d6-9e71-4a26-904a-a4999922c4e0"
      },
      "execution_count": 50,
      "outputs": [
        {
          "output_type": "stream",
          "name": "stdout",
          "text": [
            "Columns in the dataset: Index(['InvoiceNo', 'StockCode', 'Description', 'Quantity', 'InvoiceDate',\n",
            "       'UnitPrice', 'CustomerID', 'Country', 'KMeans_Cluster',\n",
            "       'DBSCAN_Cluster'],\n",
            "      dtype='object')\n",
            "First 5 rows with clustering results:\n",
            "   InvoiceNo  StockCode  Description  Quantity         InvoiceDate  UnitPrice  \\\n",
            "0   536365.0       3249         3716         6 2010-12-01 08:26:00       2.55   \n",
            "1   536365.0       2649         3724         6 2010-12-01 08:26:00       3.39   \n",
            "2   536365.0       2855          861         8 2010-12-01 08:26:00       2.75   \n",
            "3   536365.0       2803         1813         6 2010-12-01 08:26:00       3.39   \n",
            "4   536365.0       2802         2776         6 2010-12-01 08:26:00       3.39   \n",
            "\n",
            "   CustomerID  Country  KMeans_Cluster  DBSCAN_Cluster  \n",
            "0     17850.0       35               2               0  \n",
            "1     17850.0       35               2               1  \n",
            "2     17850.0       35               1               2  \n",
            "3     17850.0       35               2               3  \n",
            "4     17850.0       35               2               4  \n"
          ]
        }
      ]
    },
    {
      "cell_type": "code",
      "source": [
        "plt.figure(figsize=(12, 4))\n",
        "\n",
        "plt.subplot(1, 2, 1)\n",
        "plt.scatter(data['Quantity'], data['UnitPrice'], c=data['KMeans_Cluster'], cmap='viridis')\n",
        "plt.title('K-Means Clustering')\n",
        "plt.xlabel('Quantity')\n",
        "plt.ylabel('UnitPrice')\n",
        "\n",
        "plt.subplot(1, 2, 2)\n",
        "plt.scatter(data['Quantity'], data['UnitPrice'], c=data['DBSCAN_Cluster'], cmap='viridis')\n",
        "plt.title('DBSCAN Clustering')\n",
        "plt.xlabel('Quantity')\n",
        "plt.ylabel('UnitPrice')\n",
        "\n",
        "plt.tight_layout()\n",
        "plt.show()"
      ],
      "metadata": {
        "colab": {
          "base_uri": "https://localhost:8080/",
          "height": 382
        },
        "id": "18LvuSXqKeuj",
        "outputId": "d720a8d7-9ba5-44a1-9fa6-2e9a17bbaf99"
      },
      "execution_count": 51,
      "outputs": [
        {
          "output_type": "display_data",
          "data": {
            "text/plain": [
              "<Figure size 1200x400 with 2 Axes>"
            ],
            "image/png": "[encoded data removed]"
          },
          "metadata": {}
        }
      ]
    },
    {
      "cell_type": "code",
      "source": [
        "output_file = 'hasil_clustering.csv'\n",
        "data.to_csv(output_file, index=False)\n",
        "\n",
        "print(f\"Hasil clustering telah disimpan ke file: {output_file}\")"
      ],
      "metadata": {
        "colab": {
          "base_uri": "https://localhost:8080/"
        },
        "id": "DLQAv35Pg1An",
        "outputId": "b243ef64-ea49-4572-f082-6930a6e97eca"
      },
      "execution_count": 52,
      "outputs": [
        {
          "output_type": "stream",
          "name": "stdout",
          "text": [
            "Hasil clustering telah disimpan ke file: hasil_clustering.csv\n"
          ]
        }
      ]
    }
  ]
}